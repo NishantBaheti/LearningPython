{
 "cells": [
  {
   "cell_type": "code",
   "execution_count": 25,
   "metadata": {},
   "outputs": [
    {
     "data": {
      "image/png": "[encoded data removed]",
      "text/plain": [
       "<Figure size 432x288 with 1 Axes>"
      ]
     },
     "metadata": {},
     "output_type": "display_data"
    },
    {
     "name": "stdout",
     "output_type": "stream",
     "text": [
      "d_for_x...:4.6097722286464435\n",
      "d_for_x...:3.2015621187164243\n",
      "d_for_x...:4.924428900898052\n",
      "d_for_x...:3.2015621187164243\n",
      "d_for_x...:1.8027756377319946\n",
      "d_for_x...:4.031128874149275\n",
      "d_for_y...:2.692582403567252\n",
      "d_for_y...:3.2015621187164243\n",
      "d_for_y...:3.3541019662496847\n",
      "d_for_y...:5.315072906367325\n",
      "d_for_y...:6.726812023536855\n",
      "d_for_y...:10.307764064044152\n",
      "[[4.6097722286464435, 'x'], [3.2015621187164243, 'x'], [4.924428900898052, 'x'], [3.2015621187164243, 'x'], [1.8027756377319946, 'x'], [4.031128874149275, 'x'], [2.692582403567252, 'y'], [3.2015621187164243, 'y'], [3.3541019662496847, 'y'], [5.315072906367325, 'y'], [6.726812023536855, 'y'], [10.307764064044152, 'y']]\n",
      "[[1.8027756377319946, 'x'], [2.692582403567252, 'y'], [3.2015621187164243, 'x']]\n"
     ]
    }
   ],
   "source": [
    "import matplotlib.pyplot as plt\n",
    "\n",
    "x=[[1,2],[2,2],[3,2]]\n",
    "x1=[[2,3],[1,3],[4,2]]\n",
    "\n",
    "\n",
    "y=[[5,6],[7,8],[9,12]]\n",
    "\n",
    "y1=[[8,8],[7,9],[10,12]]\n",
    "a=4\n",
    "b=5.5\n",
    "plt.scatter(x,x1,s=100,color='r',label='x')\n",
    "plt.scatter(y,y1,s=150,color='g',label='y')\n",
    "plt.scatter(a,b,s=200,color='y')\n",
    "\n",
    "plt.legend()\n",
    "plt.show()\n",
    "l=[]\n",
    "#euclidean distance\n",
    "from math import sqrt\n",
    "for i in range(0,3):\n",
    "        for j in range(0,2):\n",
    "            d=sqrt((x[i][j]-a)**2+(x1[i][j]-b)**2)\n",
    "            print (\"d_for_x...:\"+str(d))\n",
    "            l.append([d,\"x\"])\n",
    "for i in range(0,3):\n",
    "        for j in range(0,2):\n",
    "            d=sqrt((y[i][j]-a)**2+(y1[i][j]-b)**2)\n",
    "            print (\"d_for_y...:\"+str(d))\n",
    "            l.append([d,\"y\"])\n",
    "#d=sqrt((x[0][0]-8)**2+(x1[0][0]-14)**2)\n",
    "#print (d)\n",
    "print(l)\n",
    "from heapq import nsmallest\n",
    "print(nsmallest(3,l))\n",
    "    "
   ]
  },
  {
   "cell_type": "code",
   "execution_count": null,
   "metadata": {},
   "outputs": [],
   "source": []
  }
 ],
 "metadata": {
  "kernelspec": {
   "display_name": "Python 3",
   "language": "python",
   "name": "python3"
  },
  "language_info": {
   "codemirror_mode": {
    "name": "ipython",
    "version": 3
   },
   "file_extension": ".py",
   "mimetype": "text/x-python",
   "name": "python",
   "nbconvert_exporter": "python",
   "pygments_lexer": "ipython3",
   "version": "3.5.2"
  }
 },
 "nbformat": 4,
 "nbformat_minor": 2
}
