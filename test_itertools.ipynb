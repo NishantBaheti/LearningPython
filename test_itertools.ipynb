{
 "metadata": {
  "language_info": {
   "codemirror_mode": {
    "name": "ipython",
    "version": 3
   },
   "file_extension": ".py",
   "mimetype": "text/x-python",
   "name": "python",
   "nbconvert_exporter": "python",
   "pygments_lexer": "ipython3",
   "version": "3.8.3-final"
  },
  "orig_nbformat": 2,
  "kernelspec": {
   "name": "python38364bitanaconda3conda5a21e7c9305747559a413d7622491a2e",
   "display_name": "Python 3.8.3 64-bit ('anaconda3': conda)",
   "language": "python"
  }
 },
 "nbformat": 4,
 "nbformat_minor": 2,
 "cells": [
  {
   "cell_type": "code",
   "execution_count": 32,
   "metadata": {},
   "outputs": [],
   "source": [
    "from itertools import *"
   ]
  },
  {
   "cell_type": "code",
   "execution_count": 64,
   "metadata": {},
   "outputs": [],
   "source": [
    "x = [1,2,3,4,5,6,7]"
   ]
  },
  {
   "cell_type": "code",
   "execution_count": 65,
   "metadata": {},
   "outputs": [
    {
     "output_type": "execute_result",
     "data": {
      "text/plain": [
       "[[1, 1, 0],\n",
       " [1, 2, -1],\n",
       " [1, 3, -2],\n",
       " [1, 4, -3],\n",
       " [1, 5, -4],\n",
       " [1, 6, -5],\n",
       " [1, 7, -6],\n",
       " [2, 2, 0],\n",
       " [2, 3, -1],\n",
       " [2, 4, -2],\n",
       " [2, 5, -3],\n",
       " [2, 6, -4],\n",
       " [2, 7, -5],\n",
       " [3, 3, 0],\n",
       " [3, 4, -1],\n",
       " [3, 5, -2],\n",
       " [3, 6, -3],\n",
       " [3, 7, -4],\n",
       " [4, 4, 0],\n",
       " [4, 5, -1],\n",
       " [4, 6, -2],\n",
       " [4, 7, -3],\n",
       " [5, 5, 0],\n",
       " [5, 6, -1],\n",
       " [5, 7, -2],\n",
       " [6, 6, 0],\n",
       " [6, 7, -1],\n",
       " [7, 7, 0]]"
      ]
     },
     "metadata": {},
     "execution_count": 65
    }
   ],
   "source": [
    "l = []\n",
    "for iter in combinations_with_replacement(x,2):\n",
    "    l.append([ iter[0], iter[1], iter[0]-iter[1] ]) \n",
    "l"
   ]
  },
  {
   "cell_type": "code",
   "execution_count": 66,
   "metadata": {},
   "outputs": [
    {
     "output_type": "execute_result",
     "data": {
      "text/plain": [
       "[[1, 2, -1],\n",
       " [1, 3, -2],\n",
       " [1, 4, -3],\n",
       " [1, 5, -4],\n",
       " [1, 6, -5],\n",
       " [1, 7, -6],\n",
       " [2, 3, -1],\n",
       " [2, 4, -2],\n",
       " [2, 5, -3],\n",
       " [2, 6, -4],\n",
       " [2, 7, -5],\n",
       " [3, 4, -1],\n",
       " [3, 5, -2],\n",
       " [3, 6, -3],\n",
       " [3, 7, -4],\n",
       " [4, 5, -1],\n",
       " [4, 6, -2],\n",
       " [4, 7, -3],\n",
       " [5, 6, -1],\n",
       " [5, 7, -2],\n",
       " [6, 7, -1]]"
      ]
     },
     "metadata": {},
     "execution_count": 66
    }
   ],
   "source": [
    "l = []\n",
    "for iter in combinations(x,2):\n",
    "    l.append([ iter[0], iter[1], iter[0]-iter[1] ])\n",
    "l"
   ]
  },
  {
   "cell_type": "code",
   "execution_count": 67,
   "metadata": {},
   "outputs": [
    {
     "output_type": "execute_result",
     "data": {
      "text/plain": [
       "[[1, 2, -1],\n",
       " [1, 3, -2],\n",
       " [1, 4, -3],\n",
       " [1, 5, -4],\n",
       " [1, 6, -5],\n",
       " [1, 7, -6],\n",
       " [2, 1, 1],\n",
       " [2, 3, -1],\n",
       " [2, 4, -2],\n",
       " [2, 5, -3],\n",
       " [2, 6, -4],\n",
       " [2, 7, -5],\n",
       " [3, 1, 2],\n",
       " [3, 2, 1],\n",
       " [3, 4, -1],\n",
       " [3, 5, -2],\n",
       " [3, 6, -3],\n",
       " [3, 7, -4],\n",
       " [4, 1, 3],\n",
       " [4, 2, 2],\n",
       " [4, 3, 1],\n",
       " [4, 5, -1],\n",
       " [4, 6, -2],\n",
       " [4, 7, -3],\n",
       " [5, 1, 4],\n",
       " [5, 2, 3],\n",
       " [5, 3, 2],\n",
       " [5, 4, 1],\n",
       " [5, 6, -1],\n",
       " [5, 7, -2],\n",
       " [6, 1, 5],\n",
       " [6, 2, 4],\n",
       " [6, 3, 3],\n",
       " [6, 4, 2],\n",
       " [6, 5, 1],\n",
       " [6, 7, -1],\n",
       " [7, 1, 6],\n",
       " [7, 2, 5],\n",
       " [7, 3, 4],\n",
       " [7, 4, 3],\n",
       " [7, 5, 2],\n",
       " [7, 6, 1]]"
      ]
     },
     "metadata": {},
     "execution_count": 67
    }
   ],
   "source": [
    "l = []\n",
    "for iter in permutations(x,2):\n",
    "    l.append([ iter[0], iter[1], iter[0]-iter[1] ])\n",
    "l"
   ]
  },
  {
   "cell_type": "code",
   "execution_count": 148,
   "metadata": {},
   "outputs": [
    {
     "output_type": "stream",
     "name": "stdout",
     "text": [
      "7\n"
     ]
    }
   ],
   "source": [
    "l = [1,2,3,4,5,6,7]\n",
    "# l = [7,6,5,4,3,2,1]\n",
    "# l = [1,2,1,2,3,2,1]\n",
    "# l = [2,3,5,6,7,1,2,4,6,9,7,5]\n",
    "# l = [0,0,0,1,0,0,0,0,1,0]\n",
    "\n",
    "max = 0\n",
    "start_new = True\n",
    "temp_list = []\n",
    "for i in range(len(l)-1):\n",
    "    if start_new:\n",
    "        total_sum = sum(temp_list)\n",
    "        if max < total_sum:\n",
    "            max = total_sum\n",
    "        temp_list = [l[i]]\n",
    "        \n",
    "    if l[i] < l[i+1]:\n",
    "        temp_list.append(l[i+1])\n",
    "        print(temp_list)\n",
    "        total_sum = sum(temp_list)\n",
    "        if max < total_sum:\n",
    "            max = total_sum\n",
    "        start_new = False\n",
    "\n",
    "    else:\n",
    "       start_new = True\n",
    "\n",
    "print(max)"
   ]
  },
  {
   "source": [
    "question 2 :\n",
    "\n",
    "You will be given a list of stock prices for a given day and your goal is to return the maximum profit that could have been made by buying a stock at the given price and then selling the stock later on. For example if the input is: \n",
    "    `[45, 24, 35, 31, 40, 38, 11]` \n",
    "then your program should return 16 because if you bought the stock at `$24` and sold it at `$40`, a profit of $16 was made and this is the largest profit that could be made. If no profit could have been made, return -1."
   ],
   "cell_type": "markdown",
   "metadata": {}
  },
  {
   "source": [
    "# l = [1,2,3,4,5,6,7]\n",
    "l = [45, 24, 35, 31, 40, 38, 11] \n",
    "# l = [100, 180, 260, 310, 40, 535, 695]\n",
    "# l = [7,6,5,4,3,2,1]\n",
    "selling_combs = [] # ['buying_price','selling_price','profit]\n",
    "for iter in combinations(l,2):\n",
    "    selling_combs.append([ iter[0], iter[1],iter[1]-iter[0]])\n",
    "\n",
    "print(selling_combs)\n",
    "# print(\"Max profit value of the week :\",selling_combs[0])\n",
    "# print(\"Max possible profit for the whole week :\",sum(combs[:3]))"
   ],
   "cell_type": "code",
   "metadata": {},
   "execution_count": 185,
   "outputs": [
    {
     "output_type": "stream",
     "name": "stdout",
     "text": [
      "[[45, 24, -21], [45, 35, -10], [45, 31, -14], [45, 40, -5], [45, 38, -7], [45, 11, -34], [24, 35, 11], [24, 31, 7], [24, 40, 16], [24, 38, 14], [24, 11, -13], [35, 31, -4], [35, 40, 5], [35, 38, 3], [35, 11, -24], [31, 40, 9], [31, 38, 7], [31, 11, -20], [40, 38, -2], [40, 11, -29], [38, 11, -27]]\n"
     ]
    }
   ]
  }
 ]
}