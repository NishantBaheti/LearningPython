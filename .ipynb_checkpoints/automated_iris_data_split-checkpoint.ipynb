{
 "cells": [
  {
   "cell_type": "code",
   "execution_count": null,
   "metadata": {},
   "outputs": [],
   "source": [
    "import time\n",
    "from sklearn.datasets import load_iris\n",
    "from sklearn import tree\n",
    "\n",
    "#from sklearn.cross_validation import train_test_split\n",
    "from sklearn.model_selection import train_test_split\n",
    "\n",
    "            #loading iris\n",
    "\n",
    "            iris=load_iris()\n",
    "\n",
    "\n",
    "            train_data,test_data,train_target,test_target=train_test_split(iris.data,iris.target,test_size=0.3)#30% testing ,70% training\n",
    "\n",
    "\n",
    "            #calling decisiontree\n",
    "\n",
    "            clf=tree.DecisionTreeClassifier()\n",
    "            trained= clf.fit(train_data,train_target)\n",
    "\n",
    "\n",
    "            #predicting output\n",
    "            predicted= trained.predict(test_data)\n",
    "\n",
    "            print(predicted)\n",
    "\n",
    "            #calculating accuracy\n",
    "            from sklearn.metrics import accuracy_score  #metrics library for calculating accuracy\n",
    "            print(accuracy_score(test_target,predicted))\n",
    "\n",
    "\n"
   ]
  },
  {
   "cell_type": "code",
   "execution_count": null,
   "metadata": {},
   "outputs": [],
   "source": []
  },
  {
   "cell_type": "code",
   "execution_count": null,
   "metadata": {},
   "outputs": [],
   "source": []
  }
 ],
 "metadata": {
  "kernelspec": {
   "display_name": "Python 3",
   "language": "python",
   "name": "python3"
  },
  "language_info": {
   "codemirror_mode": {
    "name": "ipython",
    "version": 3
   },
   "file_extension": ".py",
   "mimetype": "text/x-python",
   "name": "python",
   "nbconvert_exporter": "python",
   "pygments_lexer": "ipython3",
   "version": "3.5.2"
  }
 },
 "nbformat": 4,
 "nbformat_minor": 2
}
