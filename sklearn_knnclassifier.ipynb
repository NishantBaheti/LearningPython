{
 "cells": [
  {
   "cell_type": "code",
   "execution_count": 3,
   "metadata": {},
   "outputs": [
    {
     "name": "stdout",
     "output_type": "stream",
     "text": [
      "KNeighborsClassifier(algorithm='auto', leaf_size=30, metric='minkowski',\n",
      "           metric_params=None, n_jobs=1, n_neighbors=5, p=2,\n",
      "           weights='uniform')\n",
      "[1 0 2 1 1 0 1 2 1 1 2 0 0 0 0 1 2 1 1 2 0 2 0 2 2 2 2 2 0 0]\n",
      "[1 0 2 1 1 0 1 2 1 1 2 0 0 0 0 1 2 1 1 2 0 2 0 2 2 2 2 2 0 0]\n"
     ]
    }
   ],
   "source": [
    "from sklearn.datasets import load_iris\n",
    "from sklearn.model_selection import train_test_split\n",
    "from sklearn.neighbors import KNeighborsClassifier\n",
    "import numpy as np\n",
    "from sklearn.metrics import accuracy_score\n",
    "\n",
    "iris=load_iris()\n",
    "\n",
    "feature_names=iris.feature_names\n",
    "#print(feature_names)\n",
    "\n",
    "target_names=iris.target_names\n",
    "#print(target_names)\n",
    "\n",
    "target_data=iris.target\n",
    "#print(target_data)\n",
    "\n",
    "train_data=iris.data\n",
    "#print(train_data)\n",
    "\n",
    "train_data,test_data,train_target,test_target=train_test_split(train_data,target_data,test_size=0.2,random_state=42)\n",
    "\n",
    "clf=KNeighborsClassifier()\n",
    "\n",
    "#print(test_data)\n",
    "#print(train_data)\n",
    "\n",
    "trained=clf.fit(train_data,train_target)\n",
    "\n",
    "print(trained)\n",
    "\n",
    "predicted=clf.predict(test_data)\n",
    "\n",
    "\n",
    "#print(predicted)\n",
    "x=np.array(predicted)\n",
    "print(x)\n",
    "#print(x.size)\n",
    "y=np.array(test_target)\n",
    "print(y)"
   ]
  },
  {
   "cell_type": "code",
   "execution_count": null,
   "metadata": {},
   "outputs": [],
   "source": []
  }
 ],
 "metadata": {
  "kernelspec": {
   "display_name": "Python 3",
   "language": "python",
   "name": "python3"
  },
  "language_info": {
   "codemirror_mode": {
    "name": "ipython",
    "version": 3
   },
   "file_extension": ".py",
   "mimetype": "text/x-python",
   "name": "python",
   "nbconvert_exporter": "python",
   "pygments_lexer": "ipython3",
   "version": "3.5.2"
  }
 },
 "nbformat": 4,
 "nbformat_minor": 2
}
