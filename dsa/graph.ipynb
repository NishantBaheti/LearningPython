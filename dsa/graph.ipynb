{
 "cells": [
  {
   "cell_type": "markdown",
   "metadata": {},
   "source": [
    "# Graph"
   ]
  },
  {
   "cell_type": "code",
   "execution_count": null,
   "metadata": {},
   "outputs": [],
   "source": [
    "class Node:\n",
    "    def __init__(self, val, neighbors=None):\n",
    "        self.val = val\n",
    "        self._neighbors = neighbors or set()\n",
    "\n",
    "    @property\n",
    "    def neighbors(self):\n",
    "        return self._neighbors\n",
    "\n",
    "    @neighbors.setter\n",
    "    def neighbors(self, neighbor):\n",
    "        if not isinstance(neighbor, list):\n",
    "            neighbor = [neighbor]\n",
    "        for n in neighbor:\n",
    "            self._neighbors.add(n)\n",
    "\n",
    "    def __repr__(self):\n",
    "        return f\"Node({self.val}) Neighbors : {[i.val for i in self.neighbors]} \""
   ]
  },
  {
   "cell_type": "code",
   "execution_count": 51,
   "metadata": {},
   "outputs": [],
   "source": [
    "node_1 = Node(1)\n",
    "node_2 = Node(2)\n",
    "node_3 = Node(3)\n",
    "node_4 = Node(4)\n",
    "node_5 = Node(5)\n",
    "node_6 = Node(6)\n",
    "\n",
    "node_1.neighbors = [node_2, node_3]\n",
    "node_2.neighbors = node_4\n",
    "node_4.neighbors = [node_5, node_6]"
   ]
  },
  {
   "cell_type": "markdown",
   "metadata": {},
   "source": [
    "# Traversal\n",
    "\n",
    "## DFS"
   ]
  },
  {
   "cell_type": "code",
   "execution_count": null,
   "metadata": {},
   "outputs": [],
   "source": [
    "def dfs(node: Node, edges: list, visited: set):\n",
    "    if node.val in visited:\n",
    "        return\n",
    "    visited.add(node.val)\n",
    "    neighbors = node.neighbors\n",
    "    for neighbor in neighbors:\n",
    "        edges.append([node.val, neighbor.val])\n",
    "        dfs(neighbor, edges, visited)"
   ]
  },
  {
   "cell_type": "code",
   "execution_count": 25,
   "metadata": {},
   "outputs": [],
   "source": [
    "edges = []\n",
    "visited = set()\n",
    "dfs(node_1, edges, visited)"
   ]
  },
  {
   "cell_type": "code",
   "execution_count": 26,
   "metadata": {},
   "outputs": [
    {
     "data": {
      "text/plain": [
       "[[1, 3],\n",
       " [3, 1],\n",
       " [1, 2],\n",
       " [2, 1],\n",
       " [2, 4],\n",
       " [4, 6],\n",
       " [6, 4],\n",
       " [4, 5],\n",
       " [5, 4],\n",
       " [4, 2]]"
      ]
     },
     "execution_count": 26,
     "metadata": {},
     "output_type": "execute_result"
    }
   ],
   "source": [
    "edges"
   ]
  },
  {
   "cell_type": "code",
   "execution_count": 44,
   "metadata": {},
   "outputs": [],
   "source": [
    "node_1 = Node(1)\n",
    "node_2 = Node(2)\n",
    "node_3 = Node(3)\n",
    "node_4 = Node(4)\n",
    "node_5 = Node(5)\n",
    "node_6 = Node(6)\n",
    "\n",
    "node_1.neighbors = [node_2, node_3]\n",
    "node_2.neighbors = [node_1, node_4]\n",
    "node_3.neighbors = node_1\n",
    "node_4.neighbors = [node_2, node_5, node_6]\n",
    "node_5.neighbors = node_4\n",
    "node_6.neighbors = node_4"
   ]
  },
  {
   "cell_type": "code",
   "execution_count": 45,
   "metadata": {},
   "outputs": [],
   "source": [
    "edges = []\n",
    "visited = set()\n",
    "dfs(node_1, edges, visited)"
   ]
  },
  {
   "cell_type": "code",
   "execution_count": 46,
   "metadata": {},
   "outputs": [
    {
     "data": {
      "text/plain": [
       "[[1, 2],\n",
       " [2, 4],\n",
       " [4, 6],\n",
       " [6, 4],\n",
       " [4, 2],\n",
       " [4, 5],\n",
       " [5, 4],\n",
       " [2, 1],\n",
       " [1, 3],\n",
       " [3, 1]]"
      ]
     },
     "execution_count": 46,
     "metadata": {},
     "output_type": "execute_result"
    }
   ],
   "source": [
    "edges"
   ]
  },
  {
   "cell_type": "markdown",
   "metadata": {},
   "source": [
    "## BFS"
   ]
  },
  {
   "cell_type": "code",
   "execution_count": 47,
   "metadata": {},
   "outputs": [],
   "source": [
    "from collections import deque"
   ]
  },
  {
   "cell_type": "code",
   "execution_count": 52,
   "metadata": {},
   "outputs": [
    {
     "data": {
      "text/plain": [
       "[(1, 3), (1, 2), (2, 4), (4, 5), (4, 6)]"
      ]
     },
     "execution_count": 52,
     "metadata": {},
     "output_type": "execute_result"
    }
   ],
   "source": [
    "import queue\n",
    "\n",
    "\n",
    "def bfs(node: Node, edges: list, visited: set, queue: deque):\n",
    "\n",
    "    queue.append(node)\n",
    "    visited.add(node)\n",
    "    while queue:\n",
    "        q_node = queue.popleft()\n",
    "\n",
    "        neighbors = q_node.neighbors\n",
    "        for neighbor in neighbors:\n",
    "            edges.append((q_node.val, neighbor.val))\n",
    "            if neighbor not in visited:\n",
    "                queue.append(neighbor)\n",
    "                visited.add(neighbor)\n",
    "\n",
    "\n",
    "visited = set()\n",
    "edges = []\n",
    "queue = deque()\n",
    "bfs(node_1, edges, visited, queue)\n",
    "\n",
    "edges"
   ]
  },
  {
   "cell_type": "code",
   "execution_count": null,
   "metadata": {},
   "outputs": [],
   "source": []
  },
  {
   "cell_type": "code",
   "execution_count": null,
   "metadata": {},
   "outputs": [],
   "source": [
    "\n",
    "class GraphNode:\n",
    "    def __init__(self, val, neighbors=None):\n",
    "        self._val = val\n",
    "        self._neighbors = set(neighbors or [])\n",
    "\n",
    "    def add_neighbor(self, node):\n",
    "        self._neighbors.add(node)"
   ]
  },
  {
   "cell_type": "code",
   "execution_count": null,
   "metadata": {},
   "outputs": [],
   "source": [
    "d = GraphNode(\n",
    "    3,\n",
    ")\n",
    "e = GraphNode(4)\n",
    "b = GraphNode(1, [d])\n",
    "c = GraphNode(2, [e])\n",
    "a = GraphNode(0, [b, c])"
   ]
  },
  {
   "cell_type": "code",
   "execution_count": null,
   "metadata": {},
   "outputs": [
    {
     "name": "stdout",
     "output_type": "stream",
     "text": [
      "0\n",
      "2\n",
      "4\n",
      "1\n",
      "3\n"
     ]
    }
   ],
   "source": [
    "# fucking\n",
    "def dfs(node: GraphNode, visited: set):\n",
    "    if node is None:\n",
    "        return None\n",
    "\n",
    "    val = node._val\n",
    "    print(val)\n",
    "    visited.add(node)\n",
    "    neighbors = node._neighbors\n",
    "    for neighbor in neighbors:\n",
    "        if neighbor not in visited:\n",
    "            dfs(neighbor, visited)\n",
    "\n",
    "\n",
    "dfs(a, set())"
   ]
  },
  {
   "cell_type": "code",
   "execution_count": null,
   "metadata": {},
   "outputs": [
    {
     "name": "stdout",
     "output_type": "stream",
     "text": [
      "0\n",
      "2\n",
      "1\n",
      "4\n",
      "3\n"
     ]
    }
   ],
   "source": [
    "# fucking\n",
    "from collections import deque\n",
    "\n",
    "\n",
    "def bfs(node: GraphNode):\n",
    "    queue = deque()\n",
    "    visited = set()\n",
    "\n",
    "    queue.append(node)\n",
    "\n",
    "    while queue:\n",
    "        node = queue.pop()\n",
    "\n",
    "        print(node._val)\n",
    "        visited.add(node)\n",
    "        neighbors = node._neighbors\n",
    "        for neighbor in neighbors:\n",
    "            if neighbor not in visited:\n",
    "                queue.appendleft(neighbor)\n",
    "\n",
    "\n",
    "bfs(a)"
   ]
  },
  {
   "cell_type": "code",
   "execution_count": null,
   "metadata": {},
   "outputs": [
    {
     "name": "stdout",
     "output_type": "stream",
     "text": [
      "[5, 4, 2, 3, 1, 0]\n"
     ]
    }
   ],
   "source": [
    "adjlist = [{}, {}, {3}, {1}, {0, 1}, {0, 2}]\n",
    "\n",
    "nodes = {i: GraphNode(i) for i in range(len(adjlist))}\n",
    "\n",
    "for idx, adj in enumerate(adjlist):\n",
    "    for nei in adj:\n",
    "        nodes[idx].add_neighbor(nodes[nei])\n",
    "\n",
    "\n",
    "def dfs(node: GraphNode, visited: set, stack: list):\n",
    "    if node in visited:\n",
    "        return\n",
    "\n",
    "    visited.add(node)\n",
    "    neighbors = node._neighbors\n",
    "    for neighbor in neighbors:\n",
    "        dfs(neighbor, visited, stack)\n",
    "    stack.append(node._val)\n",
    "\n",
    "\n",
    "def topological_sort(nodes):\n",
    "    stack = list()\n",
    "    visited = set()\n",
    "    for node in nodes.values():\n",
    "        if node not in visited:\n",
    "            dfs(node, visited, stack)\n",
    "    return stack[::-1]\n",
    "\n",
    "\n",
    "print(topological_sort(nodes))"
   ]
  },
  {
   "cell_type": "code",
   "execution_count": null,
   "metadata": {},
   "outputs": [
    {
     "name": "stdout",
     "output_type": "stream",
     "text": [
      "[0, 1, 2]\n"
     ]
    }
   ],
   "source": [
    "# fucking\n",
    "from typing import List\n",
    "\n",
    "\n",
    "class GraphNode:\n",
    "    def __init__(self, val):\n",
    "        self.val = val\n",
    "        self.neighbors = set()\n",
    "\n",
    "    def add_neighbors(self, node):\n",
    "        self.neighbors.add(node)\n",
    "\n",
    "\n",
    "def create_graph(n, connections):\n",
    "    nodes = {idx: GraphNode(idx) for idx in range(n)}\n",
    "    for prev, next in connections:\n",
    "        nodes[prev].add_neighbors(nodes[next])\n",
    "    return nodes\n",
    "\n",
    "\n",
    "def dfs(node, visited, stack):\n",
    "    if node in stack:\n",
    "        return False\n",
    "    if node in visited:\n",
    "        return True\n",
    "\n",
    "    val = node.val\n",
    "    visited.add(node)\n",
    "    stack.append(node.val)\n",
    "    neighbors = node.neighbors\n",
    "    for neighbor in neighbors:\n",
    "        if not dfs(neighbor, visited, stack):\n",
    "            return False\n",
    "\n",
    "\n",
    "class Solution:\n",
    "    def canFinish(self, numCourses: int, prerequisites: List[List[int]]) -> bool:\n",
    "        nodes = create_graph(numCourses, prerequisites)\n",
    "        visited = set()\n",
    "        stack = []\n",
    "        for node in nodes.values():\n",
    "            can_finish = dfs(node, visited, stack)\n",
    "        print(stack)\n",
    "        #     if not can_finish:\n",
    "        #         return False\n",
    "        # return True\n",
    "\n",
    "\n",
    "Solution().canFinish(3, [[1, 0], [1, 2]])"
   ]
  }
 ],
 "metadata": {
  "kernelspec": {
   "display_name": ".venv",
   "language": "python",
   "name": "python3"
  },
  "language_info": {
   "codemirror_mode": {
    "name": "ipython",
    "version": 3
   },
   "file_extension": ".py",
   "mimetype": "text/x-python",
   "name": "python",
   "nbconvert_exporter": "python",
   "pygments_lexer": "ipython3",
   "version": "3.9.11"
  }
 },
 "nbformat": 4,
 "nbformat_minor": 2
}
