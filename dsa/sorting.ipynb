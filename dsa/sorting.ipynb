{
 "cells": [
  {
   "cell_type": "markdown",
   "metadata": {},
   "source": [
    "# Sorting Algorithms"
   ]
  },
  {
   "cell_type": "code",
   "execution_count": 1,
   "metadata": {},
   "outputs": [],
   "source": [
    "import math\n",
    "l = [10, 1, 8, -3, 11, 3, 114]"
   ]
  },
  {
   "cell_type": "markdown",
   "metadata": {},
   "source": [
    "## Bubble Sort"
   ]
  },
  {
   "cell_type": "code",
   "execution_count": 2,
   "metadata": {},
   "outputs": [
    {
     "name": "stdout",
     "output_type": "stream",
     "text": [
      "[10, 1, 8, -3, 11, 3, 114]\n",
      "[-3, 10, 8, 1, 11, 3, 114]\n",
      "[-3, 1, 10, 8, 11, 3, 114]\n",
      "[-3, 1, 3, 10, 11, 8, 114]\n",
      "[-3, 1, 3, 8, 11, 10, 114]\n",
      "[-3, 1, 3, 8, 10, 11, 114]\n",
      "[-3, 1, 3, 8, 10, 11, 114]\n"
     ]
    },
    {
     "data": {
      "text/plain": [
       "[-3, 1, 3, 8, 10, 11, 114]"
      ]
     },
     "execution_count": 2,
     "metadata": {},
     "output_type": "execute_result"
    }
   ],
   "source": [
    "\n",
    "def bubble_sort(l):\n",
    "\n",
    "    length = len(l)\n",
    "    print(l)\n",
    "    for i in range(length - 1):\n",
    "        for j in range(i, length):\n",
    "            if l[i] > l[j]:\n",
    "                temp = l[j]\n",
    "                l[j] = l[i]\n",
    "                l[i] = temp\n",
    "        print(l)\n",
    "    return l\n",
    "\n",
    "\n",
    "bubble_sort(l.copy())"
   ]
  },
  {
   "cell_type": "markdown",
   "metadata": {},
   "source": [
    "## Selection Sort \n",
    "\n",
    "\n",
    "1. First we find the smallest element and swap it with the first element. This way we get the smallest element at its correct position.\n",
    "2. Then we find the smallest among remaining elements (or second smallest) and move it to its correct position by swapping.\n",
    "3. We keep doing this until we get all elements moved to correct position."
   ]
  },
  {
   "cell_type": "code",
   "execution_count": 3,
   "metadata": {},
   "outputs": [
    {
     "name": "stdout",
     "output_type": "stream",
     "text": [
      "[10, 1, 8, -3, 11, 3, 114]\n",
      "[-3, 1, 8, 10, 11, 3, 114]\n",
      "[-3, 1, 8, 10, 11, 3, 114]\n",
      "[-3, 1, 3, 10, 11, 8, 114]\n",
      "[-3, 1, 3, 8, 11, 10, 114]\n",
      "[-3, 1, 3, 8, 10, 11, 114]\n",
      "[-3, 1, 3, 8, 10, 11, 114]\n"
     ]
    },
    {
     "data": {
      "text/plain": [
       "[-3, 1, 3, 8, 10, 11, 114]"
      ]
     },
     "execution_count": 3,
     "metadata": {},
     "output_type": "execute_result"
    }
   ],
   "source": [
    "\n",
    "def selection_sort(l):\n",
    "\n",
    "    length = len(l)\n",
    "\n",
    "    print(l)\n",
    "    for i in range(length - 1):\n",
    "\n",
    "        min_val = math.inf\n",
    "        idx = None\n",
    "        for j in range(i, length):\n",
    "            if l[j] < min_val:\n",
    "                min_val = l[j]\n",
    "                idx = j\n",
    "        if idx:\n",
    "            if l[i] > l[idx]:\n",
    "                temp = l[idx]\n",
    "                l[idx] = l[i]\n",
    "                l[i] = temp\n",
    "        print(l)\n",
    "    return l\n",
    "\n",
    "\n",
    "selection_sort(l.copy())"
   ]
  },
  {
   "cell_type": "markdown",
   "metadata": {},
   "source": [
    "## Insertion Sort"
   ]
  },
  {
   "cell_type": "code",
   "execution_count": 5,
   "metadata": {},
   "outputs": [
    {
     "name": "stdout",
     "output_type": "stream",
     "text": [
      "[10, 1, 8, -3, 11, 3, 114]\n",
      "[-3, 10, 8, 1, 11, 3, 114]\n",
      "[-3, 1, 10, 8, 11, 3, 114]\n",
      "[-3, 1, 3, 10, 11, 8, 114]\n",
      "[-3, 1, 3, 8, 11, 10, 114]\n",
      "[-3, 1, 3, 8, 10, 11, 114]\n",
      "[-3, 1, 3, 8, 10, 11, 114]\n",
      "[-3, 1, 3, 8, 10, 11, 114]\n"
     ]
    },
    {
     "data": {
      "text/plain": [
       "[-3, 1, 3, 8, 10, 11, 114]"
      ]
     },
     "execution_count": 5,
     "metadata": {},
     "output_type": "execute_result"
    }
   ],
   "source": [
    "def insertion_sort(l):\n",
    "    length = len(l)\n",
    "\n",
    "    print(l)\n",
    "\n",
    "    for i in range(0, length):\n",
    "        for j in range(i + 1, length):\n",
    "            if l[j] < l[i]:\n",
    "                temp = l[j]\n",
    "                l[j] = l[i]\n",
    "                l[i] = temp\n",
    "        print(l)\n",
    "    return l\n",
    "\n",
    "\n",
    "insertion_sort(l.copy())"
   ]
  }
 ],
 "metadata": {
  "kernelspec": {
   "display_name": ".venv",
   "language": "python",
   "name": "python3"
  },
  "language_info": {
   "codemirror_mode": {
    "name": "ipython",
    "version": 3
   },
   "file_extension": ".py",
   "mimetype": "text/x-python",
   "name": "python",
   "nbconvert_exporter": "python",
   "pygments_lexer": "ipython3",
   "version": "3.12.1"
  }
 },
 "nbformat": 4,
 "nbformat_minor": 2
}
