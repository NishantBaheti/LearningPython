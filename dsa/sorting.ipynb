{
 "cells": [
  {
   "cell_type": "markdown",
   "metadata": {},
   "source": [
    "# Sorting Algorithms"
   ]
  },
  {
   "cell_type": "code",
   "execution_count": 2,
   "metadata": {},
   "outputs": [],
   "source": [
    "import math\n",
    "l = [10, 1, 8, -3, 11, 114, 3]"
   ]
  },
  {
   "cell_type": "markdown",
   "metadata": {},
   "source": [
    "## Bubble Sort\n",
    "\n",
    "\n",
    "1. With each pass we actually try to push largest element to the last position in the list.\n",
    "2. In process we compare each element with the next element and swap the larger element to the right side."
   ]
  },
  {
   "cell_type": "code",
   "execution_count": 5,
   "metadata": {},
   "outputs": [
    {
     "name": "stdout",
     "output_type": "stream",
     "text": [
      "Pass : 0 | Comparing : 0 to 1 | [1, 10, 8, -3, 11, 114, 3]\n",
      "Pass : 0 | Comparing : 1 to 2 | [1, 8, 10, -3, 11, 114, 3]\n",
      "Pass : 0 | Comparing : 2 to 3 | [1, 8, -3, 10, 11, 114, 3]\n",
      "Pass : 0 | Comparing : 3 to 4 | [1, 8, -3, 10, 11, 114, 3]\n",
      "Pass : 0 | Comparing : 4 to 5 | [1, 8, -3, 10, 11, 114, 3]\n",
      "Pass : 0 | Comparing : 5 to 6 | [1, 8, -3, 10, 11, 3, 114]\n",
      "Pass : 1 | Comparing : 0 to 1 | [1, 8, -3, 10, 11, 3, 114]\n",
      "Pass : 1 | Comparing : 1 to 2 | [1, -3, 8, 10, 11, 3, 114]\n",
      "Pass : 1 | Comparing : 2 to 3 | [1, -3, 8, 10, 11, 3, 114]\n",
      "Pass : 1 | Comparing : 3 to 4 | [1, -3, 8, 10, 11, 3, 114]\n",
      "Pass : 1 | Comparing : 4 to 5 | [1, -3, 8, 10, 3, 11, 114]\n",
      "Pass : 2 | Comparing : 0 to 1 | [-3, 1, 8, 10, 3, 11, 114]\n",
      "Pass : 2 | Comparing : 1 to 2 | [-3, 1, 8, 10, 3, 11, 114]\n",
      "Pass : 2 | Comparing : 2 to 3 | [-3, 1, 8, 10, 3, 11, 114]\n",
      "Pass : 2 | Comparing : 3 to 4 | [-3, 1, 8, 3, 10, 11, 114]\n",
      "Pass : 3 | Comparing : 0 to 1 | [-3, 1, 8, 3, 10, 11, 114]\n",
      "Pass : 3 | Comparing : 1 to 2 | [-3, 1, 8, 3, 10, 11, 114]\n",
      "Pass : 3 | Comparing : 2 to 3 | [-3, 1, 3, 8, 10, 11, 114]\n",
      "Pass : 4 | Comparing : 0 to 1 | [-3, 1, 3, 8, 10, 11, 114]\n",
      "Pass : 4 | Comparing : 1 to 2 | [-3, 1, 3, 8, 10, 11, 114]\n",
      "Pass : 5 | Comparing : 0 to 1 | [-3, 1, 3, 8, 10, 11, 114]\n"
     ]
    }
   ],
   "source": [
    "def bubble_sort(l):\n",
    "    length = len(l)\n",
    "    for i in range(length):\n",
    "        for j in range(0, length - i - 1):            \n",
    "            if l[j] > l[j+1]:\n",
    "                temp = l[j]\n",
    "                l[j] = l[j+1]\n",
    "                l[j+1] = temp\n",
    "            print(f\"Pass : {i} | Comparing : {j} to {j+1} | {l}\")\n",
    "\n",
    "bubble_sort(l.copy())"
   ]
  },
  {
   "cell_type": "markdown",
   "metadata": {},
   "source": [
    "## Selection Sort \n",
    "\n",
    "\n",
    "1. First we find the smallest element and swap it with the first element. This way we get the smallest element at its correct position.\n",
    "2. Then we find the smallest among remaining elements (or second smallest) and move it to its correct position by swapping.\n",
    "3. We keep doing this until we get all elements moved to correct position."
   ]
  },
  {
   "cell_type": "code",
   "execution_count": 11,
   "metadata": {},
   "outputs": [
    {
     "name": "stdout",
     "output_type": "stream",
     "text": [
      "Position : 0 | Min Element Idx: 3 | [-3, 1, 8, 10, 11, 114, 3]\n",
      "Position : 1 | Min Element Idx: 1 | [-3, 1, 8, 10, 11, 114, 3]\n",
      "Position : 2 | Min Element Idx: 6 | [-3, 1, 3, 10, 11, 114, 8]\n",
      "Position : 3 | Min Element Idx: 6 | [-3, 1, 3, 8, 11, 114, 10]\n",
      "Position : 4 | Min Element Idx: 6 | [-3, 1, 3, 8, 10, 114, 11]\n",
      "Position : 5 | Min Element Idx: 6 | [-3, 1, 3, 8, 10, 11, 114]\n",
      "Position : 6 | Min Element Idx: 6 | [-3, 1, 3, 8, 10, 11, 114]\n"
     ]
    },
    {
     "data": {
      "text/plain": [
       "[-3, 1, 3, 8, 10, 11, 114]"
      ]
     },
     "execution_count": 11,
     "metadata": {},
     "output_type": "execute_result"
    }
   ],
   "source": [
    "def selection_sort(l):\n",
    "    length = len(l)\n",
    "    for i in range(length):\n",
    "\n",
    "        min_val = math.inf\n",
    "        idx = None\n",
    "        for j in range(i, length):\n",
    "            \n",
    "            if l[j] < min_val:\n",
    "                min_val = l[j]\n",
    "                idx = j\n",
    "                \n",
    "        if idx:\n",
    "            if l[i] > l[idx]:\n",
    "                temp = l[idx]\n",
    "                l[idx] = l[i]\n",
    "                l[i] = temp\n",
    "            \n",
    "        print(f\"Position : {i} | Min Element Idx: {idx} | {l}\")\n",
    "    return l\n",
    "\n",
    "\n",
    "selection_sort(l.copy())"
   ]
  },
  {
   "cell_type": "code",
   "execution_count": 13,
   "metadata": {},
   "outputs": [
    {
     "name": "stdout",
     "output_type": "stream",
     "text": [
      "Position : 0 | Comparing With Idx: 1 | [1, 10, 8, -3, 11, 114, 3]\n",
      "Position : 0 | Comparing With Idx: 2 | [1, 10, 8, -3, 11, 114, 3]\n",
      "Position : 0 | Comparing With Idx: 3 | [-3, 10, 8, 1, 11, 114, 3]\n",
      "Position : 0 | Comparing With Idx: 4 | [-3, 10, 8, 1, 11, 114, 3]\n",
      "Position : 0 | Comparing With Idx: 5 | [-3, 10, 8, 1, 11, 114, 3]\n",
      "Position : 0 | Comparing With Idx: 6 | [-3, 10, 8, 1, 11, 114, 3]\n",
      "Position : 1 | Comparing With Idx: 2 | [-3, 8, 10, 1, 11, 114, 3]\n",
      "Position : 1 | Comparing With Idx: 3 | [-3, 1, 10, 8, 11, 114, 3]\n",
      "Position : 1 | Comparing With Idx: 4 | [-3, 1, 10, 8, 11, 114, 3]\n",
      "Position : 1 | Comparing With Idx: 5 | [-3, 1, 10, 8, 11, 114, 3]\n",
      "Position : 1 | Comparing With Idx: 6 | [-3, 1, 10, 8, 11, 114, 3]\n",
      "Position : 2 | Comparing With Idx: 3 | [-3, 1, 8, 10, 11, 114, 3]\n",
      "Position : 2 | Comparing With Idx: 4 | [-3, 1, 8, 10, 11, 114, 3]\n",
      "Position : 2 | Comparing With Idx: 5 | [-3, 1, 8, 10, 11, 114, 3]\n",
      "Position : 2 | Comparing With Idx: 6 | [-3, 1, 3, 10, 11, 114, 8]\n",
      "Position : 3 | Comparing With Idx: 4 | [-3, 1, 3, 10, 11, 114, 8]\n",
      "Position : 3 | Comparing With Idx: 5 | [-3, 1, 3, 10, 11, 114, 8]\n",
      "Position : 3 | Comparing With Idx: 6 | [-3, 1, 3, 8, 11, 114, 10]\n",
      "Position : 4 | Comparing With Idx: 5 | [-3, 1, 3, 8, 11, 114, 10]\n",
      "Position : 4 | Comparing With Idx: 6 | [-3, 1, 3, 8, 10, 114, 11]\n",
      "Position : 5 | Comparing With Idx: 6 | [-3, 1, 3, 8, 10, 11, 114]\n"
     ]
    },
    {
     "data": {
      "text/plain": [
       "[-3, 1, 3, 8, 10, 11, 114]"
      ]
     },
     "execution_count": 13,
     "metadata": {},
     "output_type": "execute_result"
    }
   ],
   "source": [
    "def selection_sort(l):\n",
    "    length = len(l)\n",
    "\n",
    "    for i in range(0, length):\n",
    "        for j in range(i + 1, length):\n",
    "            if l[j] < l[i]:\n",
    "                temp = l[j]\n",
    "                l[j] = l[i]\n",
    "                l[i] = temp\n",
    "            print(f\"Position : {i} | Comparing With Idx: {j} | {l}\")\n",
    "    return l\n",
    "\n",
    "selection_sort(l.copy())"
   ]
  },
  {
   "cell_type": "markdown",
   "metadata": {},
   "source": [
    "## Insertion Sort"
   ]
  },
  {
   "cell_type": "code",
   "execution_count": null,
   "metadata": {},
   "outputs": [],
   "source": []
  },
  {
   "cell_type": "markdown",
   "metadata": {},
   "source": [
    "## Merge Sort"
   ]
  },
  {
   "cell_type": "code",
   "execution_count": null,
   "metadata": {},
   "outputs": [],
   "source": []
  },
  {
   "cell_type": "markdown",
   "metadata": {},
   "source": [
    "## Quick Sort"
   ]
  },
  {
   "cell_type": "code",
   "execution_count": null,
   "metadata": {},
   "outputs": [],
   "source": []
  }
 ],
 "metadata": {
  "kernelspec": {
   "display_name": ".venv",
   "language": "python",
   "name": "python3"
  },
  "language_info": {
   "codemirror_mode": {
    "name": "ipython",
    "version": 3
   },
   "file_extension": ".py",
   "mimetype": "text/x-python",
   "name": "python",
   "nbconvert_exporter": "python",
   "pygments_lexer": "ipython3",
   "version": "3.12.1"
  }
 },
 "nbformat": 4,
 "nbformat_minor": 2
}
