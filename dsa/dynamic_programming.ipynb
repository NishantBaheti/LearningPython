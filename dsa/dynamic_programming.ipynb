{
 "cells": [
  {
   "cell_type": "markdown",
   "metadata": {},
   "source": [
    "# Dynamic Programming"
   ]
  },
  {
   "cell_type": "markdown",
   "metadata": {},
   "source": [
    "## Knapsack\n"
   ]
  },
  {
   "cell_type": "code",
   "execution_count": null,
   "metadata": {},
   "outputs": [],
   "source": [
    "from typing import List"
   ]
  },
  {
   "cell_type": "code",
   "execution_count": null,
   "metadata": {},
   "outputs": [
    {
     "name": "stdout",
     "output_type": "stream",
     "text": [
      "70\n"
     ]
    }
   ],
   "source": [
    "def knapsack(wt, val, max_weight, n, memo):\n",
    "\n",
    "    if memo[max_weight][n] is not None:\n",
    "        return memo[max_weight][n]\n",
    "\n",
    "    # creates a recursion tree of take or no take\n",
    "\n",
    "    # base case if as we are starting with n - 1\n",
    "    if n == 0:  # last element\n",
    "        # if we can take then\n",
    "        if wt[n] <= max_weight:\n",
    "            return val[n]\n",
    "        else:\n",
    "            return 0\n",
    "\n",
    "    # two options now - take or not take\n",
    "    # if not take then wight of bag will remain same\n",
    "    # and we will go to the next index\n",
    "    not_take = 0 + knapsack(wt, val, max_weight, n - 1, memo)\n",
    "\n",
    "    # if take then\n",
    "    take = float(\"-inf\")\n",
    "    # check if we can take or not\n",
    "    if wt[n] <= max_weight:\n",
    "        # then pick val + (reduce weight and next index)\n",
    "        take = val[n] + knapsack(wt, val, max_weight - wt[n], n - 1, memo)\n",
    "\n",
    "    # max of take and no take\n",
    "    val = max(take, not_take)\n",
    "    memo[max_weight][n] = val\n",
    "    return memo[max_weight][n]\n",
    "\n",
    "\n",
    "wt = [3, 2, 6]\n",
    "val = [30, 40, 60]\n",
    "n = len(wt)\n",
    "max_weight = 6\n",
    "\n",
    "\n",
    "memo = [[None for _ in range(n)] for _ in range(max_weight + 1)]\n",
    "print(knapsack(wt, val, max_weight, n - 1, memo))"
   ]
  },
  {
   "cell_type": "code",
   "execution_count": null,
   "metadata": {},
   "outputs": [
    {
     "name": "stdout",
     "output_type": "stream",
     "text": [
      "[[0, 0, 0, 0, 0, 0, 0], [0, 0, 0, 0, 0, 0, 0], [0, 0, 0, 0, 0, 0, 0]]\n",
      "1 0 0\n",
      "1 1 0\n",
      "1 2 0\n",
      "1 3 0\n",
      "1 4 0\n",
      "1 5 0\n",
      "1 6 0\n",
      "2 0 1\n",
      "2 1 1\n",
      "2 2 1\n",
      "2 3 1\n",
      "2 4 1\n",
      "2 5 1\n",
      "2 6 1\n",
      "70\n"
     ]
    }
   ],
   "source": [
    "# stop suggestions fucking stupid\n",
    "\n",
    "\n",
    "def knapsack(wt, val, max_weight):\n",
    "    size = len(wt)\n",
    "    # rows idx of weights, cols idx of max weight\n",
    "    dp = [[0 for _ in range(max_weight + 1)] for _ in range(size)]\n",
    "    print(dp)\n",
    "\n",
    "    # bottom up approach\n",
    "    # loop wt idx 0 -> size - 1 and weight 0 -> max_weight\n",
    "\n",
    "    # base case\n",
    "    # if wt idx = 0 and if wt is less than max weight then I can pick\n",
    "    for weight in range(max_weight + 1):\n",
    "        if wt[0] <= weight:\n",
    "            dp[0][weight] = val[0]\n",
    "\n",
    "    # now itertively\n",
    "    for wt_idx in range(1, size):\n",
    "        for weight in range(0, max_weight + 1):\n",
    "            # wt_idx , weight\n",
    "            # 1, 0\n",
    "            # 1, 1\n",
    "            # 1, 2\n",
    "            # ...\n",
    "            # 2, 0\n",
    "            # 2, 1\n",
    "            # ...\n",
    "\n",
    "            # now two options take or no take\n",
    "            # if no take (no need to compare weight) ->  no value is added + going to prev index with same weight\n",
    "            print(wt_idx, weight, wt_idx - 1)\n",
    "            no_take = 0 + dp[wt_idx - 1][weight]\n",
    "\n",
    "            # if take\n",
    "            # because we need maximum\n",
    "            take = float(\"-inf\")\n",
    "\n",
    "            # check ig weight is less then wt idx\n",
    "            if wt[wt_idx] <= weight:\n",
    "                # then take and value is added + weight is reduced and prev idx\n",
    "                take = val[wt_idx] + dp[wt_idx - 1][weight - wt[wt_idx]]\n",
    "            dp[wt_idx][weight] = max(take, no_take)\n",
    "\n",
    "    return dp[size - 1][max_weight]\n",
    "\n",
    "\n",
    "wt = [3, 2, 6]\n",
    "val = [30, 40, 60]\n",
    "\n",
    "max_weight = 6\n",
    "\n",
    "print(knapsack(wt, val, max_weight))"
   ]
  },
  {
   "cell_type": "markdown",
   "metadata": {},
   "source": [
    "## fibonacci \n",
    "\n",
    "> 1 1 2 3 5 8 13"
   ]
  },
  {
   "cell_type": "code",
   "execution_count": 13,
   "metadata": {},
   "outputs": [
    {
     "name": "stdout",
     "output_type": "stream",
     "text": [
      "13\n"
     ]
    }
   ],
   "source": [
    "def fib_1(n):\n",
    "    if n <= 1:\n",
    "        return n\n",
    "    return fib_1(n-2) + fib_1(n-1)\n",
    "\n",
    "print(fib_1(7))"
   ]
  },
  {
   "cell_type": "code",
   "execution_count": 21,
   "metadata": {},
   "outputs": [
    {
     "name": "stdout",
     "output_type": "stream",
     "text": [
      "2.1 μs ± 112 ns per loop (mean ± std. dev. of 7 runs, 1,000,000 loops each)\n"
     ]
    }
   ],
   "source": [
    "%timeit fib_1(7)"
   ]
  },
  {
   "cell_type": "code",
   "execution_count": 19,
   "metadata": {},
   "outputs": [
    {
     "data": {
      "text/plain": [
       "13"
      ]
     },
     "execution_count": 19,
     "metadata": {},
     "output_type": "execute_result"
    }
   ],
   "source": [
    "def fib_2(n, cache):\n",
    "    if n <= 1:\n",
    "        return n\n",
    "    if cache[n] is not None:\n",
    "        return cache[n]\n",
    "    else:\n",
    "        val = fib_2(n-2, cache) + fib_2(n-1, cache)\n",
    "        cache[n] = val        \n",
    "    return val\n",
    "\n",
    "n = 7\n",
    "cache = [None] * (n + 1)\n",
    "fib_2(7, cache)"
   ]
  },
  {
   "cell_type": "code",
   "execution_count": 23,
   "metadata": {},
   "outputs": [
    {
     "name": "stdout",
     "output_type": "stream",
     "text": [
      "1 μs ± 65.7 ns per loop (mean ± std. dev. of 7 runs, 1,000,000 loops each)\n"
     ]
    }
   ],
   "source": [
    "%timeit fib_2(7, cache=[None] * 8)"
   ]
  },
  {
   "cell_type": "code",
   "execution_count": 37,
   "metadata": {},
   "outputs": [
    {
     "data": {
      "text/plain": [
       "13"
      ]
     },
     "execution_count": 37,
     "metadata": {},
     "output_type": "execute_result"
    }
   ],
   "source": [
    "def fib_3(n):\n",
    "    dp = [1, 1]\n",
    "    for i in range(2, n):\n",
    "        val = dp[i - 1] + dp[i - 2]\n",
    "        dp.append(val)\n",
    "\n",
    "    return dp[-1]\n",
    "\n",
    "fib_3(7)"
   ]
  },
  {
   "cell_type": "code",
   "execution_count": 38,
   "metadata": {},
   "outputs": [
    {
     "name": "stdout",
     "output_type": "stream",
     "text": [
      "468 ns ± 44.3 ns per loop (mean ± std. dev. of 7 runs, 1,000,000 loops each)\n"
     ]
    }
   ],
   "source": [
    "%timeit fib_3(7)"
   ]
  },
  {
   "cell_type": "markdown",
   "metadata": {},
   "source": [
    "## Longest Common Subsequence"
   ]
  },
  {
   "cell_type": "code",
   "execution_count": null,
   "metadata": {},
   "outputs": [
    {
     "name": "stdout",
     "output_type": "stream",
     "text": [
      "[[1, None, None], [None, None, None], [None, None, None], [None, None, None], [None, None, None]]\n",
      "[[1, None, None], [1, None, None], [None, None, None], [None, None, None], [None, None, None]]\n",
      "[[1, None, None], [1, None, None], [None, 2, None], [None, None, None], [None, None, None]]\n",
      "[[1, None, None], [1, None, None], [1, 2, None], [None, None, None], [None, None, None]]\n",
      "[[1, None, None], [1, None, None], [1, 2, None], [1, None, None], [None, None, None]]\n",
      "[[1, None, None], [1, None, None], [1, 2, None], [1, 2, None], [None, None, None]]\n",
      "[[1, None, None], [1, None, None], [1, 2, None], [1, 2, None], [None, None, 3]]\n"
     ]
    },
    {
     "data": {
      "text/plain": [
       "3"
      ]
     },
     "metadata": {},
     "output_type": "display_data"
    }
   ],
   "source": [
    "\n",
    "def longest_common_subsequence(text1_idx, text2_idx, text1, text2, memo):\n",
    "    # anything goes negative nothing will match\n",
    "\n",
    "    if text1_idx < 0 or text2_idx < 0:\n",
    "        return 0\n",
    "\n",
    "    if memo[text1_idx][text2_idx] is not None:\n",
    "        return memo[text1_idx][text2_idx]\n",
    "\n",
    "    if text1[text1_idx] == text2[text2_idx]:\n",
    "        # if match both idxes are decreased simultaneously\n",
    "        memo[text1_idx][text2_idx] = 1 + longest_common_subsequence(\n",
    "            text1_idx - 1, text2_idx - 1, text1, text2, memo\n",
    "        )\n",
    "    else:\n",
    "        # if not match both idxes are decreased one by one and max of both independent results is taken\n",
    "        memo[text1_idx][text2_idx] = max(\n",
    "            longest_common_subsequence(text1_idx - 1, text2_idx, text1, text2, memo),\n",
    "            longest_common_subsequence(text1_idx, text2_idx - 1, text1, text2, memo),\n",
    "        )\n",
    "    print(memo)\n",
    "    return memo[text1_idx][text2_idx]\n",
    "\n",
    "\n",
    "class Solution:\n",
    "    def longestCommonSubsequence(self, text1: str, text2: str) -> int:\n",
    "        text1_size = len(text1)\n",
    "        text2_size = len(text2)\n",
    "        memo = [[None for _ in range(text2_size)] for _ in range(text1_size)]\n",
    "        return longest_common_subsequence(\n",
    "            text1_size - 1, text2_size - 1, text1, text2, memo\n",
    "        )\n",
    "\n",
    "\n",
    "Solution().longestCommonSubsequence(\"abcde\", \"ace\")"
   ]
  },
  {
   "cell_type": "code",
   "execution_count": null,
   "metadata": {},
   "outputs": [
    {
     "name": "stdout",
     "output_type": "stream",
     "text": [
      "a a\n",
      "a c\n",
      "a e\n",
      "b a\n",
      "b c\n",
      "b e\n",
      "c a\n",
      "c c\n",
      "c e\n",
      "d a\n",
      "d c\n",
      "d e\n",
      "e a\n",
      "e c\n",
      "e e\n",
      "[[0, 0, 0, 0], [0, 1, 1, 1], [0, 1, 1, 1], [0, 1, 2, 2], [0, 1, 2, 2], [0, 1, 2, 3]] ace\n"
     ]
    },
    {
     "data": {
      "text/plain": [
       "3"
      ]
     },
     "metadata": {},
     "output_type": "display_data"
    }
   ],
   "source": [
    "\n",
    "class Solution:\n",
    "    def longestCommonSubsequence(self, text1: str, text2: str) -> int:\n",
    "\n",
    "        text1_size = len(text1)\n",
    "        text2_size = len(text2)\n",
    "\n",
    "        dp = [[0 for _ in range(text2_size + 1)] for _ in range(text1_size + 1)]\n",
    "        lcs = \"\"\n",
    "\n",
    "        for t1_idx in range(1, text1_size + 1):\n",
    "            for t2_idx in range(1, text2_size + 1):\n",
    "                print(text1[t1_idx - 1], text2[t2_idx - 1])\n",
    "                if text1[t1_idx - 1] == text2[t2_idx - 1]:\n",
    "                    dp[t1_idx][t2_idx] = 1 + dp[t1_idx - 1][t2_idx - 1]\n",
    "                    lcs += text1[t1_idx - 1]\n",
    "                else:\n",
    "                    dp[t1_idx][t2_idx] = max(\n",
    "                        dp[t1_idx][t2_idx - 1], dp[t1_idx - 1][t2_idx]\n",
    "                    )\n",
    "        print(dp, lcs)\n",
    "        return dp[text1_size][text2_size]\n",
    "\n",
    "\n",
    "Solution().longestCommonSubsequence(\"abcde\", \"ace\")"
   ]
  },
  {
   "cell_type": "markdown",
   "metadata": {},
   "source": [
    "## Longest Common Substring"
   ]
  },
  {
   "cell_type": "code",
   "execution_count": null,
   "metadata": {},
   "outputs": [
    {
     "data": {
      "text/plain": [
       "['c', 'd']"
      ]
     },
     "metadata": {},
     "output_type": "display_data"
    }
   ],
   "source": [
    "\n",
    "\n",
    "def longest_common_substring(text1, text2, text1_idx, text2_idx, l):\n",
    "    if text1_idx < 0 or text2_idx < 0:\n",
    "        return []\n",
    "    if text1[text1_idx] == text2[text2_idx]:\n",
    "        l.append(text1[text1_idx])\n",
    "        longest_common_substring(text1, text2, text1_idx - 1, text2_idx - 1, l)\n",
    "        return l\n",
    "    l = max(\n",
    "        longest_common_substring(text1, text2, text1_idx - 1, text2_idx, []),\n",
    "        longest_common_substring(text1, text2, text1_idx, text2_idx - 1, []),\n",
    "    )\n",
    "    return l\n",
    "\n",
    "\n",
    "class Solution:\n",
    "    def longestCommonSubstring(self, text1: str, text2: str) -> int:\n",
    "\n",
    "        text1_size = len(text1)\n",
    "        text2_size = len(text2)\n",
    "\n",
    "        return longest_common_substring(\n",
    "            text1, text2, text1_size - 1, text2_size - 1, []\n",
    "        )[::-1]\n",
    "\n",
    "\n",
    "Solution().longestCommonSubstring(\"acd\", \"lcde\")"
   ]
  },
  {
   "cell_type": "markdown",
   "metadata": {},
   "source": [
    "## Climb Stairs"
   ]
  },
  {
   "cell_type": "code",
   "execution_count": null,
   "metadata": {},
   "outputs": [
    {
     "data": {
      "text/plain": [
       "2"
      ]
     },
     "metadata": {},
     "output_type": "display_data"
    }
   ],
   "source": [
    "\n",
    "def climb_stairs(n, memo):\n",
    "    if n < 0:\n",
    "        return 0\n",
    "    if n == 0:\n",
    "        return 1\n",
    "    if n == 1:\n",
    "        return 1\n",
    "    if n == 2:\n",
    "        return 2\n",
    "\n",
    "    if memo[n] is not None:\n",
    "        return memo[n]\n",
    "\n",
    "    memo[n] = climb_stairs(n - 1) + climb_stairs(n - 2)\n",
    "\n",
    "    return memo[n]\n",
    "\n",
    "\n",
    "class Solution:\n",
    "    def climbStairs(self, n: int) -> int:\n",
    "        memo = [None] * (n + 1)\n",
    "        return climb_stairs(n, memo)\n",
    "\n",
    "\n",
    "Solution().climbStairs(2)"
   ]
  },
  {
   "cell_type": "code",
   "execution_count": null,
   "metadata": {},
   "outputs": [
    {
     "data": {
      "text/plain": [
       "2"
      ]
     },
     "metadata": {},
     "output_type": "display_data"
    }
   ],
   "source": [
    "class Solution:\n",
    "    def climbStairs(self, n: int) -> int:\n",
    "        dp = [0] * (n + 1)\n",
    "\n",
    "        dp[0] = 1\n",
    "        dp[1] = 1\n",
    "        dp[2] = 2\n",
    "\n",
    "        for idx in range(3, n):\n",
    "            dp[idx] = dp[idx] + dp[idx - 1] + dp[idx - 2]\n",
    "\n",
    "        return dp[n]\n",
    "\n",
    "\n",
    "Solution().climbStairs(2)"
   ]
  },
  {
   "cell_type": "markdown",
   "metadata": {},
   "source": [
    "## Longest Increasing Subsequence"
   ]
  },
  {
   "cell_type": "code",
   "execution_count": null,
   "metadata": {},
   "outputs": [
    {
     "data": {
      "text/plain": [
       "4"
      ]
     },
     "metadata": {},
     "output_type": "display_data"
    }
   ],
   "source": [
    "\n",
    "from typing import List\n",
    "\n",
    "\n",
    "def longest_increasing_subseq(nums, size, idx, prev_idx, memo):\n",
    "\n",
    "    # base case -> increasing idx till the end of the array\n",
    "    # nothing else to compute\n",
    "    if idx == size:\n",
    "        return 0\n",
    "\n",
    "    if memo[idx][prev_idx + 1] is not None:\n",
    "        return memo[idx][prev_idx + 1]\n",
    "\n",
    "    # if i dont take then idx will increase but prev idx will remain same as we have not picked\n",
    "    no_take = 0 + longest_increasing_subseq(nums, size, idx + 1, prev_idx, memo)\n",
    "\n",
    "    # if take\n",
    "    # check condition (are we at the first digit /prev == -1 or the prev value is less than current value)\n",
    "    take = float(\"-inf\")\n",
    "    if prev_idx == -1 or nums[prev_idx] < nums[idx]:\n",
    "        # len = 1 + (idx is incremented and current idx becomes prev idx)\n",
    "        take = 1 + longest_increasing_subseq(nums, size, idx + 1, idx, memo)\n",
    "\n",
    "    val = max(no_take, take)\n",
    "    memo[idx][prev_idx + 1] = val\n",
    "    return memo[idx][prev_idx + 1]\n",
    "\n",
    "\n",
    "class Solution:\n",
    "    def lengthOfLIS(self, nums: List[int]) -> int:\n",
    "        size = len(nums)\n",
    "        # need to keep memo for both idx and prev idx\n",
    "        # now that we are starting with -1 memo will be accessed by prev idx + 1\n",
    "        memo = [[None for _ in range(size + 1)] for _ in range(size)]\n",
    "        return longest_increasing_subseq(nums, size, 0, -1, memo)\n",
    "\n",
    "\n",
    "Solution().lengthOfLIS(nums=[10, 9, 2, 5, 3, 7, 101, 18])"
   ]
  },
  {
   "cell_type": "code",
   "execution_count": null,
   "metadata": {},
   "outputs": [
    {
     "name": "stdout",
     "output_type": "stream",
     "text": [
      "[[1, 0, 0, 0, 0, 0, 0, 0, 0], [1, 0, 0, 0, 0, 0, 0, 0, 0], [1, 0, 0, 0, 0, 0, 0, 0, 0], [1, 0, 0, 1, 0, 0, 0, 0, 0], [1, 0, 0, 1, 0, 0, 0, 0, 0], [1, 0, 0, 1, 1, 1, 0, 0, 0], [1, 1, 1, 1, 1, 1, 1, 0, 0], [1, 1, 1, 1, 1, 1, 1, 0, 0]]\n"
     ]
    },
    {
     "data": {
      "text/plain": [
       "0"
      ]
     },
     "metadata": {},
     "output_type": "display_data"
    }
   ],
   "source": [
    "class Solution:\n",
    "    def lengthOfLIS(self, nums: List[int]) -> int:\n",
    "        size = len(nums)\n",
    "        # need to keep memo for both idx and prev idx\n",
    "        # now that we are starting with -1 memo will be accessed by prev idx + 1\n",
    "        dp = [[0 for _ in range(size + 1)] for _ in range(size)]\n",
    "\n",
    "        for idx in range(size - 1, -1, -1):\n",
    "            for prev_idx in range(idx - 1, -2, -1):\n",
    "\n",
    "                no_take = 0 + dp[idx][prev_idx + 1]\n",
    "\n",
    "                take = float(\"-inf\")\n",
    "                if prev_idx == -1 or nums[prev_idx] < nums[idx]:\n",
    "                    take = 1 + dp[idx][idx + 1]\n",
    "\n",
    "                dp[idx][prev_idx + 1] = max(take, no_take)\n",
    "\n",
    "        print(dp)\n",
    "        return dp[-1][size - 1]\n",
    "\n",
    "\n",
    "Solution().lengthOfLIS(nums=[10, 9, 2, 5, 3, 7, 101, 18])"
   ]
  },
  {
   "cell_type": "markdown",
   "metadata": {},
   "source": [
    "## Coin Change II"
   ]
  },
  {
   "cell_type": "code",
   "execution_count": null,
   "metadata": {},
   "outputs": [
    {
     "data": {
      "text/plain": [
       "0"
      ]
     },
     "metadata": {},
     "output_type": "display_data"
    }
   ],
   "source": [
    "def coin_change_ii(coins, index, amount, memo):\n",
    "\n",
    "    if amount == 0:\n",
    "        return 1\n",
    "\n",
    "    if amount < 0:\n",
    "        return 0\n",
    "\n",
    "    if (index, amount) in memo:\n",
    "        return memo[(index, amount)]\n",
    "\n",
    "    solution = 0\n",
    "    n_coins = len(coins)\n",
    "    for i in range(index, n_coins):\n",
    "        solution = solution + coin_change_ii(coins, i, amount - coins[i], memo)\n",
    "\n",
    "    memo[(index, amount)] = solution\n",
    "    return solution\n",
    "\n",
    "\n",
    "memo = {}\n",
    "coin_change_ii([2, 2340, 4680], 0, 4681, memo)"
   ]
  },
  {
   "cell_type": "code",
   "execution_count": null,
   "metadata": {},
   "outputs": [
    {
     "name": "stdout",
     "output_type": "stream",
     "text": [
      "1 0 [1, 0, 0, 0, 0, 0, 0]\n",
      "2 1 [1, 1, 0, 0, 0, 0, 0]\n",
      "3 2 [1, 1, 1, 0, 0, 0, 0]\n",
      "4 3 [1, 1, 1, 1, 0, 0, 0]\n",
      "5 4 [1, 1, 1, 1, 1, 0, 0]\n",
      "6 5 [1, 1, 1, 1, 1, 1, 0]\n",
      "2 0 [1, 1, 1, 1, 1, 1, 1]\n",
      "3 1 [1, 1, 2, 1, 1, 1, 1]\n",
      "4 2 [1, 1, 2, 2, 1, 1, 1]\n",
      "5 3 [1, 1, 2, 2, 3, 1, 1]\n",
      "6 4 [1, 1, 2, 2, 3, 3, 1]\n",
      "5 0 [1, 1, 2, 2, 3, 3, 4]\n",
      "6 1 [1, 1, 2, 2, 3, 4, 4]\n"
     ]
    },
    {
     "data": {
      "text/plain": [
       "5"
      ]
     },
     "metadata": {},
     "output_type": "display_data"
    }
   ],
   "source": [
    "def coin_change_ii(coins, amount):\n",
    "    dp = [0] * (amount + 1)\n",
    "    dp[0] = 1\n",
    "\n",
    "    for coin in coins:\n",
    "        for am in range(coin, amount + 1):\n",
    "            print(am, am - coin, dp)\n",
    "            dp[am] += dp[am - coin]\n",
    "    return dp[amount]\n",
    "\n",
    "\n",
    "coin_change_ii([1, 2, 5], 6)"
   ]
  },
  {
   "cell_type": "markdown",
   "metadata": {},
   "source": [
    "## Length of longest substring"
   ]
  },
  {
   "cell_type": "code",
   "execution_count": null,
   "metadata": {},
   "outputs": [
    {
     "data": {
      "text/plain": [
       "2"
      ]
     },
     "metadata": {},
     "output_type": "display_data"
    }
   ],
   "source": [
    "\n",
    "class Solution:\n",
    "    def lengthOfLongestSubstring(self, s: str) -> int:\n",
    "\n",
    "        size = len(s)\n",
    "        if size == 0:\n",
    "            return 0\n",
    "        if size == 1:\n",
    "            return 1\n",
    "\n",
    "        max_counter = 0\n",
    "\n",
    "        for slow_idx in range(0, size):\n",
    "            hashmap = set(s[slow_idx])\n",
    "            for fast_idx in range(slow_idx + 1, size):\n",
    "                if s[fast_idx] in hashmap:\n",
    "                    break\n",
    "                else:\n",
    "                    hashmap.add(s[fast_idx])\n",
    "            max_counter = max(max_counter, len(hashmap))\n",
    "        return max_counter\n",
    "\n",
    "\n",
    "Solution().lengthOfLongestSubstring(\"au\")"
   ]
  },
  {
   "cell_type": "code",
   "execution_count": null,
   "metadata": {},
   "outputs": [
    {
     "data": {
      "text/plain": [
       "5"
      ]
     },
     "metadata": {},
     "output_type": "display_data"
    }
   ],
   "source": [
    "\n",
    "class Solution:\n",
    "    def lengthOfLongestSubstring(self, s: str) -> int:\n",
    "\n",
    "        size = len(s)\n",
    "        if size == 0:\n",
    "            return 0\n",
    "        if size == 1:\n",
    "            return 1\n",
    "\n",
    "        hashmap = {}\n",
    "\n",
    "        slow_idx = 0\n",
    "        fast_idx = 0\n",
    "        max_len = 0\n",
    "        while fast_idx < size:\n",
    "            if s[fast_idx] not in hashmap:\n",
    "                hashmap[s[fast_idx]] = fast_idx\n",
    "            else:\n",
    "                if hashmap[s[fast_idx]] + 1 > slow_idx:\n",
    "                    slow_idx = hashmap[s[fast_idx]] + 1\n",
    "                hashmap[s[fast_idx]] = fast_idx\n",
    "            max_len = max(fast_idx - slow_idx + 1, max_len)\n",
    "            fast_idx += 1\n",
    "\n",
    "        return max_len\n",
    "\n",
    "\n",
    "Solution().lengthOfLongestSubstring(\"tmmzuxt\")"
   ]
  },
  {
   "cell_type": "markdown",
   "metadata": {},
   "source": [
    "## Maximum Subarray"
   ]
  },
  {
   "cell_type": "code",
   "execution_count": null,
   "metadata": {},
   "outputs": [
    {
     "data": {
      "text/plain": [
       "6"
      ]
     },
     "metadata": {},
     "output_type": "display_data"
    }
   ],
   "source": [
    "\n",
    "class Solution:\n",
    "    def maxSubArray(self, nums: List[int]) -> int:\n",
    "        size = len(nums)\n",
    "        max_sum = float(\"-inf\")\n",
    "\n",
    "        temp_sum = 0\n",
    "\n",
    "        for idx in range(size):\n",
    "            temp_sum += nums[idx]\n",
    "            if temp_sum <= 0:\n",
    "                temp_sum = 0\n",
    "            max_sum = max(max_sum, temp_sum)\n",
    "        return max_sum\n",
    "\n",
    "\n",
    "Solution().maxSubArray([-2, 1, -3, 4, -1, 2, 1, -5, 4])"
   ]
  },
  {
   "cell_type": "markdown",
   "metadata": {},
   "source": [
    "## Minimum total Triangle"
   ]
  },
  {
   "cell_type": "code",
   "execution_count": 1,
   "metadata": {},
   "outputs": [
    {
     "name": "stdout",
     "output_type": "stream",
     "text": [
      "-10\n",
      "-2\n",
      "11\n"
     ]
    }
   ],
   "source": [
    "from typing import List\n",
    "\n",
    "\n",
    "def minimum_total(triangle, size, row_idx, col_idx, memo):\n",
    "\n",
    "    if row_idx == size - 1:\n",
    "        return triangle[row_idx][col_idx]\n",
    "\n",
    "    if memo[row_idx][col_idx] != -1:\n",
    "        return memo[row_idx][col_idx]\n",
    "\n",
    "    down = triangle[row_idx][col_idx] + minimum_total(\n",
    "        triangle, size, row_idx + 1, col_idx, memo\n",
    "    )\n",
    "    diagonal = triangle[row_idx][col_idx] + minimum_total(\n",
    "        triangle, size, row_idx + 1, col_idx + 1, memo\n",
    "    )\n",
    "    memo[row_idx][col_idx] = min(down, diagonal)\n",
    "    return memo[row_idx][col_idx]\n",
    "\n",
    "\n",
    "class Solution:\n",
    "    def minimumTotal(self, triangle: List[List[int]]) -> int:\n",
    "        size = len(triangle)\n",
    "        memo = [[-1 for _ in range(size)] for _ in range(size)]\n",
    "        return minimum_total(triangle, size, 0, 0, memo)\n",
    "\n",
    "\n",
    "triangle = [[-1], [-2, -3], [-4, -5, -6]]\n",
    "\n",
    "print(Solution().minimumTotal(triangle))\n",
    "\n",
    "triangle = [[1], [-2, 3], [-1, 4, -5]]\n",
    "\n",
    "print(Solution().minimumTotal(triangle))\n",
    "triangle = [[2], [3, 4], [6, 5, 7], [4, 1, 8, 3]]\n",
    "\n",
    "print(Solution().minimumTotal(triangle))"
   ]
  }
 ],
 "metadata": {
  "kernelspec": {
   "display_name": ".venv",
   "language": "python",
   "name": "python3"
  },
  "language_info": {
   "codemirror_mode": {
    "name": "ipython",
    "version": 3
   },
   "file_extension": ".py",
   "mimetype": "text/x-python",
   "name": "python",
   "nbconvert_exporter": "python",
   "pygments_lexer": "ipython3",
   "version": "3.12.1"
  }
 },
 "nbformat": 4,
 "nbformat_minor": 2
}
